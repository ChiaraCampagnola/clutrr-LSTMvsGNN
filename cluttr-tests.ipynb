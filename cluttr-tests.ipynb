{
 "cells": [
  {
   "cell_type": "code",
   "execution_count": 1,
   "metadata": {},
   "outputs": [],
   "source": [
    "import time\n",
    "\n",
    "import torch\n",
    "import torch.nn as nn\n",
    "from torch import nn, optim, Tensor\n",
    "from torch.utils.data import DataLoader\n",
    "import torch.nn.functional as F\n",
    "\n",
    "import numpy as np\n",
    "from typing import List, Tuple, Any, Optional, Dict\n",
    "\n",
    "from data.raw_data import Instance, Data\n",
    "from data.data_utils import Dictionary, triples_to_indices\n",
    "from data.dataset import CLUTRRdata\n",
    "from models.encoders import EncoderLSTM\n",
    "from models.decoders import DecoderLSTM\n",
    "from training.train import train, predict_raw\n",
    "\n",
    "Triple = Fact = Tuple[str, str, str]\n",
    "Story = List[Fact]"
   ]
  },
  {
   "cell_type": "code",
   "execution_count": 23,
   "metadata": {},
   "outputs": [
    {
     "name": "stdout",
     "output_type": "stream",
     "text": [
      "Number of entities 78\n",
      "Example story: [('James', 'sister', 'Lisa'), ('Lisa', 'father', 'Jason')]\n",
      "Example target: ('James', 'father', 'Jason')\n",
      "entity embeddings shape: torch.Size([78, 100])\n"
     ]
    }
   ],
   "source": [
    "test_data_path = ['data/clutrr-data/data_089907f8/1.2_test.csv']\n",
    "data = Data(test_paths = test_data_path)\n",
    "dictionary = Dictionary(data)\n",
    "story, target = data.train[5000].story, data.train[5000].target\n",
    "s, p, o = target\n",
    "print(f'Number of entities {dictionary.num_entities}')\n",
    "print(f'Example story: {story}')\n",
    "print(f'Example target: {target}')\n",
    "\n",
    "entity_embeddings = nn.Embedding(dictionary.num_entities, 100, sparse=True)\n",
    "relation_embeddings = nn.Embedding(dictionary.num_relations, 100, sparse=True)\n",
    "\n",
    "# Currently no backprop through embeddings\n",
    "entity_embeddings.weight.requires_grad = False\n",
    "relation_embeddings.weight.requires_grad = False\n",
    "print(f'entity embeddings shape: {entity_embeddings.weight.shape}')\n",
    "\n",
    "indices, ent, rel = triples_to_indices(dictionary, story)"
   ]
  },
  {
   "cell_type": "code",
   "execution_count": 24,
   "metadata": {},
   "outputs": [],
   "source": [
    "test_data = data.test['data/clutrr-data/data_089907f8/1.2_test.csv']"
   ]
  },
  {
   "cell_type": "code",
   "execution_count": 4,
   "metadata": {},
   "outputs": [],
   "source": [
    "train_set = CLUTRRdata(data.train[:5000], dictionary)\n",
    "#trainloader = DataLoader(dataset = train_set,\n",
    "#                        batch_size = 5,\n",
    "#                        shuffle = True,)"
   ]
  },
  {
   "cell_type": "code",
   "execution_count": 5,
   "metadata": {},
   "outputs": [
    {
     "data": {
      "text/plain": [
       "5000"
      ]
     },
     "execution_count": 5,
     "metadata": {},
     "output_type": "execute_result"
    }
   ],
   "source": [
    "len(train_set)"
   ]
  },
  {
   "cell_type": "code",
   "execution_count": 6,
   "metadata": {},
   "outputs": [],
   "source": [
    "test_set = CLUTRRdata(test_data, dictionary)\n",
    "#testloader = DataLoader(dataset = test_set,\n",
    "#                        batch_size = 5,\n",
    "#                        shuffle = True,)"
   ]
  },
  {
   "cell_type": "code",
   "execution_count": 7,
   "metadata": {},
   "outputs": [],
   "source": [
    "encoder = EncoderLSTM(hidden_size = 100,\n",
    "                    entity_embeddings = entity_embeddings,\n",
    "                    relation_embeddings = relation_embeddings)\n",
    "\n",
    "decoder = DecoderLSTM(hidden_size = 100,\n",
    "                    entity_embeddings = entity_embeddings,\n",
    "                    num_relations = dictionary.num_relations)"
   ]
  },
  {
   "cell_type": "code",
   "execution_count": 8,
   "metadata": {},
   "outputs": [
    {
     "name": "stdout",
     "output_type": "stream",
     "text": [
      "Training model...\n",
      "Epoch [1/4], Train loss: 27.3562, Test loss: 0.1362                        \n",
      "Epoch [2/4], Train loss: 0.0524, Test loss: 0.0385                        \n",
      "Epoch [3/4], Train loss: 0.0189, Test loss: 0.0162                        \n",
      "Epoch [4/4], Train loss: 0.0089, Test loss: 0.0082                        \n",
      "Finished training\n",
      "\n"
     ]
    }
   ],
   "source": [
    "train(encoder, decoder, train_set, test_set, 4, 0.01)"
   ]
  },
  {
   "cell_type": "code",
   "execution_count": 31,
   "metadata": {},
   "outputs": [
    {
     "name": "stdout",
     "output_type": "stream",
     "text": [
      "Story: [('Jason', 'grandson', 'Scott'), ('Scott', 'brother', 'Lewis')]\n",
      "Target: ('Jason', 'grandson', 'Lewis')\n",
      "Predicted relation: grandson\n"
     ]
    }
   ],
   "source": [
    "predict_raw(test_data[0], encoder, decoder, dictionary)"
   ]
  },
  {
   "cell_type": "code",
   "execution_count": 22,
   "metadata": {},
   "outputs": [
    {
     "data": {
      "text/plain": [
       "[('Jason', 'grandson', 'Donald'), ('Donald', 'brother', 'Russell')]"
      ]
     },
     "execution_count": 22,
     "metadata": {},
     "output_type": "execute_result"
    }
   ],
   "source": [
    "test_data[4].story"
   ]
  },
  {
   "cell_type": "code",
   "execution_count": 9,
   "metadata": {},
   "outputs": [],
   "source": [
    "a = 3"
   ]
  },
  {
   "cell_type": "code",
   "execution_count": 25,
   "metadata": {},
   "outputs": [
    {
     "name": "stdout",
     "output_type": "stream",
     "text": [
      "[('Jason', 'grandson', 'Scott'), ('Scott', 'brother', 'Lewis')]\t('Jason', 'grandson', 'Lewis')\n",
      "[('Gabrielle', 'husband', 'Jason'), ('Jason', 'daughter', 'Lisa')]\t('Gabrielle', 'daughter', 'Lisa')\n",
      "[('Gabrielle', 'husband', 'Jason'), ('Jason', 'daughter', 'Myrna')]\t('Gabrielle', 'daughter', 'Myrna')\n",
      "[('Gabrielle', 'grandson', 'David'), ('David', 'brother', 'Joe')]\t('Gabrielle', 'grandson', 'Joe')\n",
      "[('Jason', 'grandson', 'Donald'), ('Donald', 'brother', 'Russell')]\t('Jason', 'grandson', 'Russell')\n",
      "[('Dorothy', 'husband', 'James'), ('James', 'daughter', 'Theresa')]\t('Dorothy', 'daughter', 'Theresa')\n",
      "[('Myrna', 'husband', 'Christopher'), ('Christopher', 'daughter', 'Lucille')]\t('Myrna', 'daughter', 'Lucille')\n",
      "[('Gabrielle', 'grandson', 'Kevin'), ('Kevin', 'brother', 'Dan')]\t('Gabrielle', 'grandson', 'Dan')\n",
      "[('Gabrielle', 'grandson', 'Dan'), ('Dan', 'brother', 'Micheal')]\t('Gabrielle', 'grandson', 'Micheal')\n",
      "[('Gabrielle', 'grandson', 'Dan'), ('Dan', 'brother', 'Kevin')]\t('Gabrielle', 'grandson', 'Kevin')\n"
     ]
    }
   ],
   "source": [
    "for i in range(10):\n",
    "    print(test_data[i])"
   ]
  },
  {
   "cell_type": "code",
   "execution_count": 26,
   "metadata": {},
   "outputs": [
    {
     "data": {
      "text/plain": [
       "38"
      ]
     },
     "execution_count": 26,
     "metadata": {},
     "output_type": "execute_result"
    }
   ],
   "source": [
    "len(test_data)"
   ]
  },
  {
   "cell_type": "code",
   "execution_count": null,
   "metadata": {},
   "outputs": [],
   "source": []
  }
 ],
 "metadata": {
  "kernelspec": {
   "display_name": "python3.8.0env",
   "language": "python",
   "name": "python3.8.0env"
  },
  "language_info": {
   "codemirror_mode": {
    "name": "ipython",
    "version": 3
   },
   "file_extension": ".py",
   "mimetype": "text/x-python",
   "name": "python",
   "nbconvert_exporter": "python",
   "pygments_lexer": "ipython3",
   "version": "3.8.0"
  }
 },
 "nbformat": 4,
 "nbformat_minor": 4
}
