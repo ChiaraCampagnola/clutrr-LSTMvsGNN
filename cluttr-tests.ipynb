{
 "cells": [
  {
   "cell_type": "code",
   "execution_count": 1,
   "metadata": {},
   "outputs": [],
   "source": [
    "import time\n",
    "\n",
    "import torch\n",
    "import torch.nn as nn\n",
    "from torch import nn, optim, Tensor\n",
    "from torch.utils.data import DataLoader\n",
    "import torch.nn.functional as F\n",
    "\n",
    "import numpy as np\n",
    "from typing import List, Tuple, Any, Optional, Dict\n",
    "\n",
    "from data.raw_data import Instance, Data\n",
    "from data.data_utils import Dictionary, triples_to_indices\n",
    "from data.dataset import CLUTRRdata\n",
    "from models.encoders import EncoderLSTM\n",
    "from models.decoders import DecoderLSTM\n",
    "from training.train import train, predict_raw"
   ]
  },
  {
   "cell_type": "code",
   "execution_count": 2,
   "metadata": {},
   "outputs": [
    {
     "name": "stdout",
     "output_type": "stream",
     "text": [
      "Number of entities 78\n",
      "Example story: [('Dwight', 'brother', 'Christopher'), ('Christopher', 'daughter', 'Lucille')]\n",
      "Example target: ('James', 'father', 'Jason')\n",
      "entity embeddings shape: torch.Size([78, 100])\n"
     ]
    }
   ],
   "source": [
    "test_data_path = ['data/clutrr-data/data_089907f8/1.2_test.csv']\n",
    "data = Data(test_paths = test_data_path)\n",
    "dictionary = Dictionary(data)\n",
    "story, target = data.train[5080].story, data.train[5000].target\n",
    "s, p, o = target\n",
    "print(f'Number of entities {dictionary.num_entities}')\n",
    "print(f'Example story: {story}')\n",
    "print(f'Example target: {target}')\n",
    "\n",
    "entity_embeddings = nn.Embedding(dictionary.num_entities, 100, sparse=True)\n",
    "relation_embeddings = nn.Embedding(dictionary.num_relations, 100, sparse=True)\n",
    "\n",
    "# Currently no backprop through embeddings\n",
    "entity_embeddings.weight.requires_grad = False\n",
    "relation_embeddings.weight.requires_grad = False\n",
    "print(f'entity embeddings shape: {entity_embeddings.weight.shape}')\n",
    "\n",
    "indices, ent, rel = triples_to_indices(dictionary, story)"
   ]
  },
  {
   "cell_type": "code",
   "execution_count": 3,
   "metadata": {},
   "outputs": [],
   "source": [
    "train_set = CLUTRRdata(data.train, dictionary)\n",
    "test_set = CLUTRRdata(data.test, dictionary)"
   ]
  },
  {
   "cell_type": "code",
   "execution_count": null,
   "metadata": {},
   "outputs": [],
   "source": []
  },
  {
   "cell_type": "code",
   "execution_count": 4,
   "metadata": {},
   "outputs": [],
   "source": [
    "encoder = EncoderLSTM(hidden_size = 100,\n",
    "                    entity_embeddings = entity_embeddings,\n",
    "                    relation_embeddings = relation_embeddings)\n",
    "\n",
    "decoder = DecoderLSTM(hidden_size = 100,\n",
    "                    entity_embeddings = entity_embeddings,\n",
    "                    num_relations = dictionary.num_relations)\n",
    "\n",
    "device = torch.device('cuda' if torch.cuda.is_available() else 'cpu')\n",
    "encoder = encoder.to(device)\n",
    "decoder = decoder.to(device)"
   ]
  },
  {
   "cell_type": "code",
   "execution_count": null,
   "metadata": {},
   "outputs": [],
   "source": []
  },
  {
   "cell_type": "code",
   "execution_count": 5,
   "metadata": {},
   "outputs": [
    {
     "name": "stdout",
     "output_type": "stream",
     "text": [
      "Training model...\n",
      "Initial values: \n",
      "Train loss: 155.06 | Train acc: 2.55% | Test loss: 163.07 | Test acc: 0.00%\n",
      "Epoch [1/4],Train loss: 14.0012,Test loss: 27.3578 Train acc: 90.37% Test acc: 71.05%\n",
      "Epoch [2/4],Train loss: 0.8007,Test loss: 43.0047 Train acc: 99.53% Test acc: 71.05%\n",
      "Epoch [3/4],Train loss: 0.3904,Test loss: 35.3882 Train acc: 99.74% Test acc: 68.42%\n",
      "Epoch [4/4],Train loss: 4.7297,Test loss: 6.9632 Train acc: 97.04% Test acc: 100.00%\n",
      "Finished training\n",
      "\n"
     ]
    }
   ],
   "source": [
    "train(encoder,\n",
    "      decoder,\n",
    "      train_set,\n",
    "      test_set,\n",
    "      epochs = 4,\n",
    "      learning_rate = 0.01)"
   ]
  },
  {
   "cell_type": "code",
   "execution_count": 7,
   "metadata": {},
   "outputs": [
    {
     "name": "stdout",
     "output_type": "stream",
     "text": [
      "Story: [('Jason', 'grandson', 'Scott'), ('Scott', 'brother', 'Lewis')]\n",
      "Target: ('Jason', 'grandson', 'Lewis')\n",
      "Predicted relation: grandson\n",
      "None\n",
      "Story: [('Gabrielle', 'husband', 'Jason'), ('Jason', 'daughter', 'Lisa')]\n",
      "Target: ('Gabrielle', 'daughter', 'Lisa')\n",
      "Predicted relation: daughter\n",
      "None\n",
      "Story: [('Gabrielle', 'husband', 'Jason'), ('Jason', 'daughter', 'Myrna')]\n",
      "Target: ('Gabrielle', 'daughter', 'Myrna')\n",
      "Predicted relation: daughter\n",
      "None\n",
      "Story: [('Gabrielle', 'grandson', 'David'), ('David', 'brother', 'Joe')]\n",
      "Target: ('Gabrielle', 'grandson', 'Joe')\n",
      "Predicted relation: grandson\n",
      "None\n",
      "Story: [('Jason', 'grandson', 'Donald'), ('Donald', 'brother', 'Russell')]\n",
      "Target: ('Jason', 'grandson', 'Russell')\n",
      "Predicted relation: grandson\n",
      "None\n",
      "Story: [('Dorothy', 'husband', 'James'), ('James', 'daughter', 'Theresa')]\n",
      "Target: ('Dorothy', 'daughter', 'Theresa')\n",
      "Predicted relation: daughter\n",
      "None\n",
      "Story: [('Myrna', 'husband', 'Christopher'), ('Christopher', 'daughter', 'Lucille')]\n",
      "Target: ('Myrna', 'daughter', 'Lucille')\n",
      "Predicted relation: daughter\n",
      "None\n",
      "Story: [('Gabrielle', 'grandson', 'Kevin'), ('Kevin', 'brother', 'Dan')]\n",
      "Target: ('Gabrielle', 'grandson', 'Dan')\n",
      "Predicted relation: grandson\n",
      "None\n",
      "Story: [('Gabrielle', 'grandson', 'Dan'), ('Dan', 'brother', 'Micheal')]\n",
      "Target: ('Gabrielle', 'grandson', 'Micheal')\n",
      "Predicted relation: grandson\n",
      "None\n",
      "Story: [('Gabrielle', 'grandson', 'Dan'), ('Dan', 'brother', 'Kevin')]\n",
      "Target: ('Gabrielle', 'grandson', 'Kevin')\n",
      "Predicted relation: grandson\n",
      "None\n"
     ]
    }
   ],
   "source": [
    "for i in range(10):\n",
    "    print(predict_raw(data.test[i], encoder, decoder, dictionary))"
   ]
  },
  {
   "cell_type": "code",
   "execution_count": null,
   "metadata": {},
   "outputs": [],
   "source": []
  },
  {
   "cell_type": "code",
   "execution_count": null,
   "metadata": {},
   "outputs": [],
   "source": []
  },
  {
   "cell_type": "code",
   "execution_count": null,
   "metadata": {},
   "outputs": [],
   "source": []
  },
  {
   "cell_type": "code",
   "execution_count": null,
   "metadata": {},
   "outputs": [],
   "source": []
  }
 ],
 "metadata": {
  "kernelspec": {
   "display_name": "CLUTTR-LSTMvsGNN",
   "language": "python",
   "name": "lstmvsgnn"
  },
  "language_info": {
   "codemirror_mode": {
    "name": "ipython",
    "version": 3
   },
   "file_extension": ".py",
   "mimetype": "text/x-python",
   "name": "python",
   "nbconvert_exporter": "python",
   "pygments_lexer": "ipython3",
   "version": "3.7.0"
  }
 },
 "nbformat": 4,
 "nbformat_minor": 4
}
