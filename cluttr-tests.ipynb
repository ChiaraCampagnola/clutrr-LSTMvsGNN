{
 "cells": [
  {
   "cell_type": "code",
   "execution_count": 1,
   "metadata": {},
   "outputs": [],
   "source": [
    "import pandas as pd\n",
    "import yaml\n",
    "import csv\n",
    "import json\n",
    "import time\n",
    "\n",
    "import torch\n",
    "import torch.nn as nn\n",
    "from torch import nn, optim, Tensor\n",
    "import torch.nn.functional as F\n",
    "\n",
    "import numpy as np\n",
    "from typing import List, Tuple, Any, Optional, Dict\n",
    "\n",
    "from data import Instance, Data, Dictionary"
   ]
  },
  {
   "cell_type": "code",
   "execution_count": 2,
   "metadata": {},
   "outputs": [],
   "source": [
    "Triple = Fact = Tuple[str, str, str]\n",
    "Story = List[Fact]"
   ]
  },
  {
   "cell_type": "code",
   "execution_count": null,
   "metadata": {},
   "outputs": [],
   "source": [
    "data = Data()\n",
    "dictionary = Dictionary(data.all_triples, data)"
   ]
  },
  {
   "cell_type": "code",
   "execution_count": 4,
   "metadata": {},
   "outputs": [
    {
     "data": {
      "text/plain": [
       "78"
      ]
     },
     "execution_count": 4,
     "metadata": {},
     "output_type": "execute_result"
    }
   ],
   "source": [
    "dictionary.num_entities"
   ]
  },
  {
   "cell_type": "code",
   "execution_count": 5,
   "metadata": {},
   "outputs": [
    {
     "data": {
      "text/plain": [
       "{'Aida': 0,\n",
       " 'Alan': 1,\n",
       " 'Alfred': 2,\n",
       " 'Alma': 3,\n",
       " 'Angela': 4,\n",
       " 'Anna': 5,\n",
       " 'Annette': 6,\n",
       " 'Annie': 7,\n",
       " 'Anthony': 8,\n",
       " 'Asia': 9,\n",
       " 'Beverly': 10,\n",
       " 'Carlos': 11,\n",
       " 'Chad': 12,\n",
       " 'Christopher': 13,\n",
       " 'Clarence': 14,\n",
       " 'Connie': 15,\n",
       " 'Craig': 16,\n",
       " 'Dan': 17,\n",
       " 'Darnell': 18,\n",
       " 'David': 19,\n",
       " 'Deborah': 20,\n",
       " 'Donald': 21,\n",
       " 'Donna': 22,\n",
       " 'Dorothy': 23,\n",
       " 'Dwight': 24,\n",
       " 'Elizabeth': 25,\n",
       " 'Elliott': 26,\n",
       " 'Ellis': 27,\n",
       " 'Emmanuel': 28,\n",
       " 'Enedina': 29,\n",
       " 'Eunice': 30,\n",
       " 'Gabrielle': 31,\n",
       " 'Guillermina': 32,\n",
       " 'James': 33,\n",
       " 'Jason': 34,\n",
       " 'Jeanna': 35,\n",
       " 'Jeffrey': 36,\n",
       " 'Jennifer': 37,\n",
       " 'Jeremy': 38,\n",
       " 'Joe': 39,\n",
       " 'John': 40,\n",
       " 'Jose': 41,\n",
       " 'Karen': 42,\n",
       " 'Kevin': 43,\n",
       " 'Kirk': 44,\n",
       " 'Lee': 45,\n",
       " 'Lewis': 46,\n",
       " 'Lisa': 47,\n",
       " 'Lucille': 48,\n",
       " 'Marci': 49,\n",
       " 'Marian': 50,\n",
       " 'Mark': 51,\n",
       " 'Matthew': 52,\n",
       " 'May': 53,\n",
       " 'Michael': 54,\n",
       " 'Micheal': 55,\n",
       " 'Michele': 56,\n",
       " 'Michelle': 57,\n",
       " 'Molly': 58,\n",
       " 'Myrna': 59,\n",
       " 'Paul': 60,\n",
       " 'Reta': 61,\n",
       " 'Robert': 62,\n",
       " 'Rosie': 63,\n",
       " 'Russell': 64,\n",
       " 'Sandra': 65,\n",
       " 'Scott': 66,\n",
       " 'Sheila': 67,\n",
       " 'Sidney': 68,\n",
       " 'Stanley': 69,\n",
       " 'Teresa': 70,\n",
       " 'Theresa': 71,\n",
       " 'Thomas': 72,\n",
       " 'Valerie': 73,\n",
       " 'Vanessa': 74,\n",
       " 'Venita': 75,\n",
       " 'Vincent': 76,\n",
       " 'William': 77}"
      ]
     },
     "execution_count": 5,
     "metadata": {},
     "output_type": "execute_result"
    }
   ],
   "source": [
    "dictionary.entity2idx"
   ]
  },
  {
   "cell_type": "code",
   "execution_count": 4,
   "metadata": {},
   "outputs": [],
   "source": [
    "# Aga\n",
    "# entity_embeddings = nn.Embedding(data.nb_entities, rank, sparse=True)\n",
    "# predicate_embeddings = nn.Embedding(data.nb_predicates, rank, sparse=True)"
   ]
  },
  {
   "cell_type": "code",
   "execution_count": 19,
   "metadata": {},
   "outputs": [
    {
     "data": {
      "text/plain": [
       "('Donald', 'aunt', 'Dorothy')"
      ]
     },
     "execution_count": 19,
     "metadata": {},
     "output_type": "execute_result"
    }
   ],
   "source": [
    "data.train[0].target"
   ]
  },
  {
   "cell_type": "code",
   "execution_count": 20,
   "metadata": {},
   "outputs": [],
   "source": [
    "entity_embeddings = nn.Embedding(dictionary.num_entities, 100, sparse=True)\n",
    "relation_embeddings = nn.Embedding(dictionary.num_predicates, 100, sparse=True)"
   ]
  },
  {
   "cell_type": "code",
   "execution_count": 21,
   "metadata": {},
   "outputs": [
    {
     "data": {
      "text/plain": [
       "torch.Size([78, 100])"
      ]
     },
     "execution_count": 21,
     "metadata": {},
     "output_type": "execute_result"
    }
   ],
   "source": [
    "entity_embeddings.weight.shape"
   ]
  },
  {
   "cell_type": "code",
   "execution_count": 9,
   "metadata": {},
   "outputs": [],
   "source": [
    "def encode_arguments(facts: List[Fact],\n",
    "                     entity_embeddings: Tensor,\n",
    "                     entity_to_idx: Dict[str, int],\n",
    "                     device: Optional[torch.device] = None) -> Tuple[Tensor, Tensor]:\n",
    "    indices_np = np.array([[entity_to_idx[s], entity_to_idx[o]] for s, _, o in facts], dtype=np.int64)\n",
    "    indices = torch.tensor(indices_np, dtype=torch.long, device=device)\n",
    "    emb = F.embedding(indices, entity_embeddings)\n",
    "    return emb[:, 0, :], emb[:, 1, :]\n",
    "\n",
    "\n",
    "def encode_entities(facts: List[Fact],\n",
    "                    entity_embeddings: Tensor,\n",
    "                    entity_to_idx: Dict[str, int]) -> Tensor:\n",
    "    indices_lst = sorted({entity_to_idx[e] for s, r, o in facts for e in {s, o}})\n",
    "    indices = torch.tensor(indices_lst, dtype=torch.long)\n",
    "    emb = F.embedding(indices, entity_embeddings)\n",
    "    return emb\n",
    "\n",
    "def encode_relation(facts: List[Fact],\n",
    "                    relation_embeddings: Tensor,\n",
    "                    relation_to_idx: Dict[str, int],\n",
    "                    device: Optional[torch.device] = None) -> Tensor:\n",
    "    indices_np = np.array([relation_to_idx[r] for _, r, _ in facts], dtype=np.int64)\n",
    "    indices = torch.tensor(indices_np, dtype=torch.long, device=device)\n",
    "    res = F.embedding(indices, relation_embeddings)\n",
    "    return res"
   ]
  },
  {
   "cell_type": "code",
   "execution_count": 22,
   "metadata": {},
   "outputs": [
    {
     "data": {
      "text/plain": [
       "2"
      ]
     },
     "execution_count": 22,
     "metadata": {},
     "output_type": "execute_result"
    }
   ],
   "source": [
    "story, target = data.train[0].story, data.train[0].target\n",
    "len(story)"
   ]
  },
  {
   "cell_type": "code",
   "execution_count": 35,
   "metadata": {},
   "outputs": [
    {
     "data": {
      "text/plain": [
       "tensor([[21, 54],\n",
       "        [54, 23]])"
      ]
     },
     "execution_count": 35,
     "metadata": {},
     "output_type": "execute_result"
    }
   ],
   "source": [
    "indices_np = np.array([[dictionary.entity2idx[s], dictionary.entity2idx[o]] for s, _, o in story])\n",
    "indices = torch.tensor(indices_np, dtype=torch.long)\n",
    "indices"
   ]
  },
  {
   "cell_type": "code",
   "execution_count": 11,
   "metadata": {},
   "outputs": [],
   "source": [
    "embeddings = encode_entities([story[0]], entity_embeddings.weight, dictionary.entity2idx)\n",
    "story_arg1, story_arg2 = encode_arguments([story[0]], entity_embeddings.weight, dictionary.entity2idx)"
   ]
  },
  {
   "cell_type": "code",
   "execution_count": 12,
   "metadata": {},
   "outputs": [],
   "source": [
    "s, r, o = target"
   ]
  },
  {
   "cell_type": "code",
   "execution_count": 13,
   "metadata": {},
   "outputs": [],
   "source": [
    "target_lst: List[Tuple[str, str, str]] = [(s, x, o) for x in data.relation_lst]"
   ]
  },
  {
   "cell_type": "code",
   "execution_count": 14,
   "metadata": {},
   "outputs": [],
   "source": [
    "rel_emb = encode_relation(target_lst, relation_embeddings.weight, dictionary.predicate2idx)"
   ]
  },
  {
   "cell_type": "code",
   "execution_count": 13,
   "metadata": {},
   "outputs": [
    {
     "ename": "NameError",
     "evalue": "name 'story' is not defined",
     "output_type": "error",
     "traceback": [
      "\u001b[0;31m---------------------------------------------------------------------------\u001b[0m",
      "\u001b[0;31mNameError\u001b[0m                                 Traceback (most recent call last)",
      "\u001b[0;32m<ipython-input-13-413f39315591>\u001b[0m in \u001b[0;36m<module>\u001b[0;34m\u001b[0m\n\u001b[0;32m----> 1\u001b[0;31m \u001b[0mstory\u001b[0m\u001b[0;34m\u001b[0m\u001b[0;34m\u001b[0m\u001b[0m\n\u001b[0m",
      "\u001b[0;31mNameError\u001b[0m: name 'story' is not defined"
     ]
    }
   ],
   "source": [
    "story"
   ]
  },
  {
   "cell_type": "code",
   "execution_count": 23,
   "metadata": {},
   "outputs": [
    {
     "data": {
      "text/plain": [
       "[('Donald', 'father', 'Michael'), ('Michael', 'sister', 'Dorothy')]"
      ]
     },
     "execution_count": 23,
     "metadata": {},
     "output_type": "execute_result"
    }
   ],
   "source": [
    "story"
   ]
  },
  {
   "cell_type": "code",
   "execution_count": null,
   "metadata": {},
   "outputs": [],
   "source": []
  }
 ],
 "metadata": {
  "kernelspec": {
   "display_name": "python3.8.0env",
   "language": "python",
   "name": "python3.8.0env"
  },
  "language_info": {
   "codemirror_mode": {
    "name": "ipython",
    "version": 3
   },
   "file_extension": ".py",
   "mimetype": "text/x-python",
   "name": "python",
   "nbconvert_exporter": "python",
   "pygments_lexer": "ipython3",
   "version": "3.8.0"
  }
 },
 "nbformat": 4,
 "nbformat_minor": 4
}
