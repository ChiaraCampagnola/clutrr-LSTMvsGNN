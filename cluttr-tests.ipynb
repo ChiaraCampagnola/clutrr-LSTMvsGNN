{
 "cells": [
  {
   "cell_type": "code",
   "execution_count": 1,
   "metadata": {},
   "outputs": [],
   "source": [
    "import time\n",
    "\n",
    "import torch\n",
    "import torch.nn as nn\n",
    "from torch import nn, optim, Tensor\n",
    "from torch.utils.data import DataLoader\n",
    "import torch.nn.functional as F\n",
    "\n",
    "import numpy as np\n",
    "from typing import List, Tuple, Any, Optional, Dict\n",
    "\n",
    "from training.data import Instance, Data, Dictionary, triples_to_indices\n",
    "from training.dataset import CLUTRRdata\n",
    "from training.train import train, predict_raw\n",
    "from models.encoders import EncoderLSTM\n",
    "from models.decoders import DecoderLSTM\n",
    "\n",
    "Triple = Fact = Tuple[str, str, str]\n",
    "Story = List[Fact]"
   ]
  },
  {
   "cell_type": "code",
   "execution_count": 2,
   "metadata": {},
   "outputs": [
    {
     "name": "stdout",
     "output_type": "stream",
     "text": [
      "Number of entities 78\n",
      "Example story: [('James', 'sister', 'Lisa'), ('Lisa', 'father', 'Jason')]\n",
      "Example target: ('James', 'father', 'Jason')\n",
      "entity embeddings shape: torch.Size([78, 100])\n"
     ]
    }
   ],
   "source": [
    "data = Data()\n",
    "dictionary = Dictionary(data)\n",
    "story, target = data.train[5000].story, data.train[5000].target\n",
    "s, p, o = target\n",
    "print(f'Number of entities {dictionary.num_entities}')\n",
    "print(f'Example story: {story}')\n",
    "print(f'Example target: {target}')\n",
    "\n",
    "entity_embeddings = nn.Embedding(dictionary.num_entities, 100, sparse=True)\n",
    "relation_embeddings = nn.Embedding(dictionary.num_relations, 100, sparse=True)\n",
    "\n",
    "# Currently no backprop through embeddings\n",
    "entity_embeddings.weight.requires_grad = False\n",
    "relation_embeddings.weight.requires_grad = False\n",
    "print(f'entity embeddings shape: {entity_embeddings.weight.shape}')\n",
    "\n",
    "indices, ent, rel = triples_to_indices(dictionary, story)"
   ]
  },
  {
   "cell_type": "code",
   "execution_count": 3,
   "metadata": {},
   "outputs": [],
   "source": [
    "train_set = CLUTRRdata(data.train[:5000], dictionary)\n",
    "trainloader = DataLoader(dataset = train_set,\n",
    "                        batch_size = 5,\n",
    "                        shuffle = True,)"
   ]
  },
  {
   "cell_type": "code",
   "execution_count": 4,
   "metadata": {},
   "outputs": [],
   "source": [
    "encoder = EncoderLSTM(hidden_size = 100,\n",
    "                    entity_embeddings = entity_embeddings,\n",
    "                    relation_embeddings = relation_embeddings)\n",
    "\n",
    "decoder = DecoderLSTM(hidden_size = 100,\n",
    "                    entity_embeddings = entity_embeddings,\n",
    "                    num_relations = dictionary.num_relations)"
   ]
  },
  {
   "cell_type": "code",
   "execution_count": 5,
   "metadata": {},
   "outputs": [
    {
     "name": "stdout",
     "output_type": "stream",
     "text": [
      "Training model...\n",
      "Epoch [1/5], Train loss: 145.04                                  \n",
      "Epoch [2/5], Train loss: 0.27                                  \n",
      "Epoch [3/5], Train loss: 0.10                                  \n",
      "Epoch [4/5], Train loss: 0.04                                  \n",
      "Epoch [5/5], Train loss: 0.02                                  \n",
      "Finished training\n",
      "\n"
     ]
    }
   ],
   "source": [
    "train(encoder, decoder, trainloader, 4, 0.01)"
   ]
  },
  {
   "cell_type": "code",
   "execution_count": 6,
   "metadata": {},
   "outputs": [
    {
     "name": "stdout",
     "output_type": "stream",
     "text": [
      "Story: [('Lisa', 'son', 'Joe'), ('Joe', 'grandmother', 'Gabrielle')]\n",
      "tensor(12)\n",
      "Target: ('Lisa', 'mother', 'Gabrielle')\n",
      "Predicted relation: mother\n"
     ]
    }
   ],
   "source": [
    "predict_raw(data.train[10], encoder, decoder, dictionary)"
   ]
  },
  {
   "cell_type": "code",
   "execution_count": null,
   "metadata": {},
   "outputs": [],
   "source": []
  },
  {
   "cell_type": "code",
   "execution_count": null,
   "metadata": {},
   "outputs": [],
   "source": []
  }
 ],
 "metadata": {
  "kernelspec": {
   "display_name": "python3.8.0env",
   "language": "python",
   "name": "python3.8.0env"
  },
  "language_info": {
   "codemirror_mode": {
    "name": "ipython",
    "version": 3
   },
   "file_extension": ".py",
   "mimetype": "text/x-python",
   "name": "python",
   "nbconvert_exporter": "python",
   "pygments_lexer": "ipython3",
   "version": "3.8.0"
  }
 },
 "nbformat": 4,
 "nbformat_minor": 4
}
